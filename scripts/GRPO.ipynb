{
 "cells": [
  {
   "cell_type": "code",
   "execution_count": null,
   "metadata": {},
   "outputs": [],
   "source": [
    "!pip install trl"
   ]
  },
  {
   "cell_type": "code",
   "execution_count": null,
   "metadata": {},
   "outputs": [],
   "source": [
    "!pip install -q wordfreq fugashi[unidic-lite]"
   ]
  },
  {
   "cell_type": "code",
   "execution_count": null,
   "metadata": {},
   "outputs": [],
   "source": [
    "from wordfreq import top_n_list\n",
    "import fugashi, itertools\n",
    "\n",
    "\n"
   ]
  },
  {
   "cell_type": "code",
   "execution_count": null,
   "metadata": {},
   "outputs": [],
   "source": [
    "import re\n",
    "\n",
    "ascii_pat = re.compile(r'^[A-Za-z0-9_]+$')   # ← 完全 ASCII を検出\n",
    "tagger = fugashi.Tagger()\n",
    "good_pos = {\"名詞\", \"形容詞\", \"形状詞\"}\n",
    "\n",
    "def is_good(word):\n",
    "    # ① ASCII なら除外\n",
    "    if ascii_pat.fullmatch(word):\n",
    "        return False\n",
    "    # ② 品詞チェック（名詞・形容詞のみ採用）\n",
    "    return tagger(word)[0].feature.pos1 in good_pos\n",
    "\n",
    "raw = [w for w in top_n_list(\"ja\", 10_000) if w.isalpha() and len(w) >= 3]\n",
    "VOCAB = [w for w in raw if is_good(w)]"
   ]
  },
  {
   "cell_type": "code",
   "execution_count": null,
   "metadata": {},
   "outputs": [],
   "source": []
  },
  {
   "cell_type": "code",
   "execution_count": null,
   "metadata": {},
   "outputs": [],
   "source": [
    "import random\n",
    "from datasets import Dataset\n",
    "\n",
    "def build_pairs(vocab, size=50_000):\n",
    "    pairs = []\n",
    "    for _ in range(size):\n",
    "        w1 = random.choice(vocab)\n",
    "        # w1 の末尾かなと同じ頭文字を持つ語だけから w2 を選ぶ\n",
    "        tail = w1[-1]\n",
    "        cand = [w for w in vocab if w[0] == tail and w[-1] != \"ん\"]\n",
    "        if not cand: continue\n",
    "        w2 = random.choice(cand)\n",
    "        pairs.append({\"prompt\": f\"# 指示{w1} → \", \"completion\": w2})\n",
    "    return Dataset.from_list(pairs)\n",
    "\n",
    "dataset = build_pairs(VOCAB)\n"
   ]
  },
  {
   "cell_type": "code",
   "execution_count": null,
   "metadata": {},
   "outputs": [],
   "source": [
    "\n"
   ]
  },
  {
   "cell_type": "code",
   "execution_count": null,
   "metadata": {},
   "outputs": [],
   "source": [
    "print(dataset[1])"
   ]
  },
  {
   "cell_type": "markdown",
   "metadata": {},
   "source": [
    "## 報酬の定義"
   ]
  },
  {
   "cell_type": "code",
   "execution_count": null,
   "metadata": {},
   "outputs": [],
   "source": [
    "import re, math, fugashi\n",
    "import numpy as np\n",
    "tagger = fugashi.Tagger()\n",
    "kana_pat = re.compile('[ぁ-ゔー]')\n",
    "\n",
    "def last_kana(word):\n",
    "    k = kana_pat.findall(word.lower())\n",
    "    return k[-1] if k else ''\n",
    "\n",
    "def shiritori_reward(prompts, completions, **kw):\n",
    "    rewards = []\n",
    "    for p, c in zip(prompts, completions):\n",
    "        head = last_kana(c[:3])\n",
    "        tail = last_kana(p)\n",
    "        # 基本点：鎖成功 +1 / 失敗 0\n",
    "        ok = 1.0 if head and head == tail else -1.0\n",
    "        # 反則：最後が “ん” なら −1\n",
    "        penalty = -1.0 if last_kana(c) == 'ん' else 0.0\n",
    "        # 語彙外は 0.5\n",
    "        oov = 0.5 if c.strip() not in VOCAB else 0.0\n",
    "        rewards.append(ok + penalty + oov)\n",
    "    return rewards\n",
    "\n",
    "\n"
   ]
  },
  {
   "cell_type": "code",
   "execution_count": null,
   "metadata": {},
   "outputs": [],
   "source": [
    "from trl import GRPOConfig, GRPOTrainer\n",
    "from transformers import AutoModelForCausalLM, AutoTokenizer\n",
    "import torch\n",
    "\n",
    "model_name = \"google/gemma-3-1b-it\"\n",
    "\n",
    "model = AutoModelForCausalLM.from_pretrained(model_name,  device_map={\"\": 0} )\n",
    "tokenizer   = AutoTokenizer.from_pretrained(model_name)\n",
    "\n"
   ]
  },
  {
   "cell_type": "code",
   "execution_count": null,
   "metadata": {},
   "outputs": [],
   "source": [
    "# 500個取得\n",
    "\n",
    "sample_dataset = dataset.shuffle(seed=42).select(range(0,1000))"
   ]
  },
  {
   "cell_type": "code",
   "execution_count": null,
   "metadata": {},
   "outputs": [],
   "source": [
    "sample_dataset\n"
   ]
  },
  {
   "cell_type": "code",
   "execution_count": null,
   "metadata": {},
   "outputs": [],
   "source": [
    "grpo_cfg = GRPOConfig(\n",
    "    num_generations=8,          # 1 プロンプトにつき兄弟回答 4 本\n",
    "    temperature=0.8,\n",
    "    beta=0.02,                 \n",
    "    max_prompt_length=32,\n",
    "    max_completion_length=32,\n",
    ")\n",
    "\n",
    "trainer = GRPOTrainer(\n",
    "    model=model,\n",
    "    processing_class=tokenizer,\n",
    "    train_dataset=sample_dataset,\n",
    "    reward_funcs=[shiritori_reward],\n",
    "    args=grpo_cfg,\n",
    ")"
   ]
  },
  {
   "cell_type": "code",
   "execution_count": null,
   "metadata": {},
   "outputs": [],
   "source": [
    "trainer.train()\n"
   ]
  },
  {
   "cell_type": "code",
   "execution_count": null,
   "metadata": {},
   "outputs": [],
   "source": [
    "SAVE_DIR = \"./shiritori-model\"\n",
    "trainer.save_model(SAVE_DIR)                # モデルの保存\n",
    "tokenizer.save_pretrained(SAVE_DIR)              # トークナイザも忘れずに"
   ]
  },
  {
   "cell_type": "code",
   "execution_count": null,
   "metadata": {},
   "outputs": [],
   "source": [
    "from transformers import AutoTokenizer, AutoModelForCausalLM, pipeline\n",
    "\n",
    "\n",
    "def play(word):\n",
    "    ids = tokenizer(word, return_tensors=\"pt\").to(model.device)\n",
    "    out = model.generate(**ids, max_new_tokens=32, do_sample=True, top_p=0.9)\n",
    "    return tokenizer.decode(out[0][ids.input_ids.shape[-1]:], skip_special_tokens=True)\n",
    "\n",
    "print(play(\"りんご\"))   # ==> \"ごま\"\n",
    "print(play(\"みかん\"))   # ==> \"かに\""
   ]
  },
  {
   "cell_type": "code",
   "execution_count": null,
   "metadata": {},
   "outputs": [],
   "source": []
  }
 ],
 "metadata": {
  "kernelspec": {
   "display_name": "llmZemi",
   "language": "python",
   "name": "python3"
  },
  "language_info": {
   "codemirror_mode": {
    "name": "ipython",
    "version": 3
   },
   "file_extension": ".py",
   "mimetype": "text/x-python",
   "name": "python",
   "nbconvert_exporter": "python",
   "pygments_lexer": "ipython3",
   "version": "3.9.7"
  },
  "orig_nbformat": 4
 },
 "nbformat": 4,
 "nbformat_minor": 2
}
