{
 "cells": [
  {
   "cell_type": "markdown",
   "metadata": {},
   "source": [
    "# しりとりモデルの作成\n",
    "## 前準備"
   ]
  },
  {
   "cell_type": "code",
   "execution_count": null,
   "metadata": {},
   "outputs": [],
   "source": [
    "!pip install -q wordfreq fugashi[unidic-lite] trl"
   ]
  },
  {
   "cell_type": "code",
   "execution_count": null,
   "metadata": {},
   "outputs": [],
   "source": [
    "from wordfreq import top_n_list\n",
    "import fugashi, itertools\n",
    "\n",
    "\n"
   ]
  },
  {
   "cell_type": "code",
   "execution_count": null,
   "metadata": {},
   "outputs": [],
   "source": [
    "import re\n",
    "\n",
    "ascii_pat = re.compile(r'^[A-Za-z0-9_]+$')   # ← 完全 ASCII を検出\n",
    "tagger = fugashi.Tagger()\n",
    "good_pos = {\"名詞\", \"形容詞\", \"動詞\"}\n",
    "\n",
    "def is_good(word):\n",
    "    # ① ASCII なら除外\n",
    "    if ascii_pat.fullmatch(word):\n",
    "        return False\n",
    "    # ② 品詞チェック（名詞・形容詞のみ採用）\n",
    "    return tagger(word)[0].feature.pos1 in good_pos\n",
    "\n",
    "raw = [w for w in top_n_list(\"ja\", 10_000) if w.isalpha() and len(w) >= 3]\n",
    "VOCAB = [w for w in raw if is_good(w)]"
   ]
  },
  {
   "cell_type": "code",
   "execution_count": null,
   "metadata": {},
   "outputs": [],
   "source": []
  },
  {
   "cell_type": "code",
   "execution_count": null,
   "metadata": {},
   "outputs": [],
   "source": [
    "import random\n",
    "from datasets import Dataset\n",
    "\n",
    "\n",
    "kana_pat = re.compile(r'[ぁ-ゖァ-ヺー]')  # ひらがな・カタカナ・長音符を許可\n",
    "\n",
    "def build_pairs(vocab, size=50_000):\n",
    "    pairs = []\n",
    "    for _ in range(size):\n",
    "        w1 = random.choice(vocab)\n",
    "        tail = w1[-1]\n",
    "\n",
    "        # w2候補：w1の末尾と一致する先頭文字かつ、最後が「ん」でなく、先頭がかな文字\n",
    "        cand = [\n",
    "            w for w in vocab\n",
    "            if w[0] == tail and w[-1] != \"ん\" and kana_pat.fullmatch(w[0])\n",
    "        ]\n",
    "\n",
    "        if not cand:\n",
    "            continue\n",
    "\n",
    "        w2 = random.choice(cand)\n",
    "        pairs.append({\"prompt\": f\"{w1} → \", \"completion\": w2})\n",
    "\n",
    "    return Dataset.from_list(pairs)\n",
    "\n",
    "\n",
    "dataset = build_pairs(VOCAB)\n"
   ]
  },
  {
   "cell_type": "code",
   "execution_count": null,
   "metadata": {},
   "outputs": [],
   "source": [
    "\n"
   ]
  },
  {
   "cell_type": "code",
   "execution_count": null,
   "metadata": {},
   "outputs": [],
   "source": [
    "print(dataset[1])"
   ]
  },
  {
   "cell_type": "markdown",
   "metadata": {},
   "source": [
    "## 報酬の定義"
   ]
  },
  {
   "cell_type": "code",
   "execution_count": null,
   "metadata": {},
   "outputs": [],
   "source": [
    "import re, math, fugashi\n",
    "import numpy as np\n",
    "tagger = fugashi.Tagger()\n",
    "kana_pat = re.compile('[ぁ-ゔー]')\n",
    "\n",
    "\n",
    "\n",
    "\n",
    "# しりとりのルールに従って報酬を計算する関数\n",
    "def shiritori_reward(prompts, completions, **kw):\n",
    "    rewards = []\n",
    "\n",
    "    # 各プロンプトと応答のペアでループ\n",
    "    for p, c in zip(prompts, completions):\n",
    "        # 応答の最初の3文字以内から、最初に出てくるかな文字を取得\n",
    "        head = c[0] if len(c)>0 else \"\"\n",
    "        # プロンプト（prompts）の最後のかな文字を取得\n",
    "        tail = p[-1] if len(p)>0 else \"\"\n",
    "        \n",
    "        # 基本点：しりとりがつながっていれば +3.0、つながっていなければ -10.0\n",
    "        ok = 3.0 if head and head == tail else -10.0\n",
    "\n",
    "        # ペナルティ：応答の最後の文字が「ん」なら -1.0（しりとり終了）\n",
    "        penalty = -3.0 if c[-1] == 'ん' else 0.0\n",
    "\n",
    "        # 長さの制約\n",
    "\n",
    "        length = 5.0 if len(c)>2 and len(c)<10 else -5.0\n",
    "\n",
    "        # 矢印の出力\n",
    "\n",
    "        arrow = -5.0 if \"→\" in c else 5.0\n",
    "\n",
    "        # 語彙外チェック：語彙リスト（VOCAB）に存在しない単語なら +4.0\n",
    "        oov = 4.0 if c not in VOCAB else 0.0\n",
    "\n",
    "        # 合計スコアを記録\n",
    "        rewards.append(ok + penalty + oov + arrow+length)\n",
    "\n",
    "    # 各ペアに対する報酬のリストを返す\n",
    "    return rewards\n"
   ]
  },
  {
   "cell_type": "code",
   "execution_count": null,
   "metadata": {},
   "outputs": [],
   "source": []
  },
  {
   "cell_type": "code",
   "execution_count": null,
   "metadata": {},
   "outputs": [],
   "source": [
    "from trl import GRPOConfig, GRPOTrainer\n",
    "from transformers import AutoModelForCausalLM, AutoTokenizer\n",
    "import torch\n",
    "\n",
    "# https://huggingface.co/google/gemma-3-1b-it\n",
    "\n",
    "model_name = \"google/gemma-3-1b-it\"\n",
    "\n",
    "model = AutoModelForCausalLM.from_pretrained(model_name,  device_map={\"\": 0} )\n",
    "tokenizer   = AutoTokenizer.from_pretrained(model_name)\n",
    "\n"
   ]
  },
  {
   "cell_type": "code",
   "execution_count": null,
   "metadata": {},
   "outputs": [],
   "source": [
    "# 500個取得\n",
    "\n",
    "sample_dataset = dataset.shuffle(seed=42).select(range(0,300))"
   ]
  },
  {
   "cell_type": "code",
   "execution_count": null,
   "metadata": {},
   "outputs": [],
   "source": [
    "sample_dataset\n"
   ]
  },
  {
   "cell_type": "code",
   "execution_count": null,
   "metadata": {},
   "outputs": [],
   "source": [
    "grpo_cfg = GRPOConfig(\n",
    "    num_generations=8,          # 1 プロンプトにつき回答 8 本\n",
    "    temperature=0.8,\n",
    "    max_prompt_length=32,\n",
    "    max_completion_length=32,\n",
    "    logging_strategy=\"epoch\",\n",
    "    num_train_epochs    = 5,\n",
    ")\n",
    "\n",
    "trainer = GRPOTrainer(\n",
    "    model=model,\n",
    "    processing_class=tokenizer,\n",
    "    train_dataset=sample_dataset,\n",
    "    reward_funcs=[shiritori_reward],\n",
    "    args=grpo_cfg,\n",
    ")"
   ]
  },
  {
   "cell_type": "code",
   "execution_count": null,
   "metadata": {},
   "outputs": [],
   "source": [
    "trainer.train()\n"
   ]
  },
  {
   "cell_type": "code",
   "execution_count": null,
   "metadata": {},
   "outputs": [],
   "source": [
    "SAVE_DIR = \"./shiritori-gemma-model\"\n",
    "trainer.save_model(SAVE_DIR)                # モデルの保存\n",
    "tokenizer.save_pretrained(SAVE_DIR)              # トークナイザも忘れずに"
   ]
  },
  {
   "cell_type": "code",
   "execution_count": null,
   "metadata": {},
   "outputs": [],
   "source": []
  }
 ],
 "metadata": {
  "kernelspec": {
   "display_name": "llmZemi",
   "language": "python",
   "name": "python3"
  },
  "language_info": {
   "codemirror_mode": {
    "name": "ipython",
    "version": 3
   },
   "file_extension": ".py",
   "mimetype": "text/x-python",
   "name": "python",
   "nbconvert_exporter": "python",
   "pygments_lexer": "ipython3",
   "version": "3.9.7"
  },
  "orig_nbformat": 4
 },
 "nbformat": 4,
 "nbformat_minor": 2
}
