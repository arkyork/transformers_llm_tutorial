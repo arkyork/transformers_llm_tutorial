{
 "cells": [
  {
   "cell_type": "markdown",
   "metadata": {},
   "source": [
    "# 言語モデルの評価"
   ]
  },
  {
   "cell_type": "code",
   "execution_count": null,
   "metadata": {},
   "outputs": [],
   "source": [
    "# https://github.com/EleutherAI/lm-evaluation-harness\n",
    "\n",
    "!git clone https://github.com/EleutherAI/lm-evaluation-harness.git\n",
    "!pip install -e ./lm-evaluation-harness"
   ]
  },
  {
   "cell_type": "markdown",
   "metadata": {},
   "source": [
    "## タスク一覧"
   ]
  },
  {
   "cell_type": "code",
   "execution_count": null,
   "metadata": {},
   "outputs": [],
   "source": [
    "!lm-eval --tasks list"
   ]
  },
  {
   "cell_type": "code",
   "execution_count": null,
   "metadata": {},
   "outputs": [],
   "source": [
    "# model_args 使用する事前学習済みモデルの指定。\n",
    "# tasks 評価タスクとして MMLU（Massive Multitask Language Understanding）を指定。\n",
    "# batch_size 1回の推論で処理するサンプル数。\n",
    "# device 使用するGPUデバイス。\n",
    "# limit テストサンプル数の上限。\n",
    "# output_path 出力先\n",
    "\n",
    "!lm_eval --model hf --model_args pretrained=Qwen/Qwen3-0.6B --tasks mmlu --device cuda:0 --batch_size 4 --limit 80 --output_path results/qwen3_mmlu.json\n",
    "\n",
    "# mode cards : https://huggingface.co/collections/Qwen/qwen3-67dd247413f0e2e4f653967f"
   ]
  },
  {
   "cell_type": "markdown",
   "metadata": {},
   "source": [
    "## Python から直接呼び出す場合（スクリプト内利用）"
   ]
  },
  {
   "cell_type": "code",
   "execution_count": null,
   "metadata": {},
   "outputs": [],
   "source": [
    "from lm_eval import simple_evaluate\n",
    "\n",
    "results = simple_evaluate(\n",
    "    model=\"hf\",\n",
    "    model_args=\"pretrained=unsloth/Llama-3.2-1B-Instruct,trust_remote_code=True\",\n",
    "    tasks=[\"gsm8k\", \"mmlu\"],\n",
    "    num_fewshot=5,\n",
    "    device=\"cuda\",\n",
    "    limit = 10\n",
    ")\n",
    "print(results)"
   ]
  },
  {
   "cell_type": "markdown",
   "metadata": {},
   "source": [
    "## ベンチマークのリンク\n",
    "\n",
    "- https://openai.com/ja-JP/index/introducing-o3-and-o4-mini/\n",
    "- https://www.helicone.ai/blog/grok-3-benchmark-comparison\n",
    "- https://ai.meta.com/blog/llama-4-multimodal-intelligence/\n",
    "- https://ai.google.dev/gemma?hl=ja"
   ]
  },
  {
   "cell_type": "code",
   "execution_count": null,
   "metadata": {},
   "outputs": [],
   "source": []
  }
 ],
 "metadata": {
  "kernelspec": {
   "display_name": "llmHandBook",
   "language": "python",
   "name": "python3"
  },
  "language_info": {
   "codemirror_mode": {
    "name": "ipython",
    "version": 3
   },
   "file_extension": ".py",
   "mimetype": "text/x-python",
   "name": "python",
   "nbconvert_exporter": "python",
   "pygments_lexer": "ipython3",
   "version": "3.9.21"
  },
  "orig_nbformat": 4
 },
 "nbformat": 4,
 "nbformat_minor": 2
}
